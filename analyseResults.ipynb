{
  "nbformat": 4,
  "nbformat_minor": 0,
  "metadata": {
    "colab": {
      "name": "analyseResults.ipynb",
      "provenance": []
    },
    "kernelspec": {
      "name": "python3",
      "display_name": "Python 3"
    }
  },
  "cells": [
    {
      "cell_type": "code",
      "metadata": {
        "id": "G9e5FY8p1cFc"
      },
      "source": [
        "import numpy as np\n",
        "import matplotlib.pyplot as plt\n",
        "import pandas as pd\n"
      ],
      "execution_count": null,
      "outputs": []
    },
    {
      "cell_type": "code",
      "metadata": {
        "id": "Shpy_MqU4WEO"
      },
      "source": [
        "aucFile = \"/content/drive/My Drive/Colab Notebooks/cs6250project/real Training/final_compare_auc.txt\"\n",
        "prcFile = \"/content/drive/My Drive/Colab Notebooks/cs6250project/real Training/final_compare_prc.txt\"\n",
        "aucdf = pd.read_csv(aucFile)\n",
        "prcdf = pd.read_csv(prcFile)\n"
      ],
      "execution_count": null,
      "outputs": []
    },
    {
      "cell_type": "code",
      "metadata": {
        "id": "4YkGYakJ4wny",
        "outputId": "db93e64c-4abb-4186-8c39-2d12461cb515",
        "colab": {
          "base_uri": "https://localhost:8080/",
          "height": 198
        }
      },
      "source": [
        "aucdf['average auc'] = aucdf.iloc[:,1:].apply('mean',axis=1)\n",
        "aucdf.iloc[:,[0,-1]]"
      ],
      "execution_count": null,
      "outputs": [
        {
          "output_type": "execute_result",
          "data": {
            "text/html": [
              "<div>\n",
              "<style scoped>\n",
              "    .dataframe tbody tr th:only-of-type {\n",
              "        vertical-align: middle;\n",
              "    }\n",
              "\n",
              "    .dataframe tbody tr th {\n",
              "        vertical-align: top;\n",
              "    }\n",
              "\n",
              "    .dataframe thead th {\n",
              "        text-align: right;\n",
              "    }\n",
              "</style>\n",
              "<table border=\"1\" class=\"dataframe\">\n",
              "  <thead>\n",
              "    <tr style=\"text-align: right;\">\n",
              "      <th></th>\n",
              "      <th>model</th>\n",
              "      <th>average auc</th>\n",
              "    </tr>\n",
              "  </thead>\n",
              "  <tbody>\n",
              "    <tr>\n",
              "      <th>0</th>\n",
              "      <td>densenet121_simple_bs16_readme.txt</td>\n",
              "      <td>0.699835</td>\n",
              "    </tr>\n",
              "    <tr>\n",
              "      <th>1</th>\n",
              "      <td>densenet_fcn2_bs16_readme.txt</td>\n",
              "      <td>0.704984</td>\n",
              "    </tr>\n",
              "    <tr>\n",
              "      <th>2</th>\n",
              "      <td>densenet_fcn2_bs32_readme.txt</td>\n",
              "      <td>0.715018</td>\n",
              "    </tr>\n",
              "    <tr>\n",
              "      <th>3</th>\n",
              "      <td>simple_dense_weighted_bs32_lr00002_readme.txt</td>\n",
              "      <td>0.764535</td>\n",
              "    </tr>\n",
              "    <tr>\n",
              "      <th>4</th>\n",
              "      <td>whole_simple_Dense_bs32_lr00002_readme.txt</td>\n",
              "      <td>0.802053</td>\n",
              "    </tr>\n",
              "  </tbody>\n",
              "</table>\n",
              "</div>"
            ],
            "text/plain": [
              "                                           model  average auc\n",
              "0             densenet121_simple_bs16_readme.txt     0.699835\n",
              "1                  densenet_fcn2_bs16_readme.txt     0.704984\n",
              "2                  densenet_fcn2_bs32_readme.txt     0.715018\n",
              "3  simple_dense_weighted_bs32_lr00002_readme.txt     0.764535\n",
              "4     whole_simple_Dense_bs32_lr00002_readme.txt     0.802053"
            ]
          },
          "metadata": {
            "tags": []
          },
          "execution_count": 3
        }
      ]
    },
    {
      "cell_type": "markdown",
      "metadata": {
        "id": "ndGJ6lNEeEzj"
      },
      "source": [
        "comparision\n",
        "\n",
        "1.   densenet_fcn2 bs 16,32. 32 better\n",
        "2.   whole simple densenet vs densenet_fnc2 freeze up to 141 bs same, whole worked better. Need train whole_densenet_fcn2 #todo\n",
        "# 3. weighted vs non weighed simple densenet 32 to compute PRC for comparision #todo\n",
        "\n"
      ]
    },
    {
      "cell_type": "code",
      "metadata": {
        "id": "EV2Mj_FJ37mQ",
        "outputId": "75ba8a84-bfa0-4a78-efdd-dbc29768e723",
        "colab": {
          "base_uri": "https://localhost:8080/",
          "height": 138
        }
      },
      "source": [
        "aucFile = \"/content/drive/My Drive/Colab Notebooks/cs6250project/real Training/final_compare_auc2.txt\"\n",
        "prcFile = \"/content/drive/My Drive/Colab Notebooks/cs6250project/real Training/final_compare_prc2.txt\"\n",
        "aucdf2 = pd.read_csv(aucFile).dropna()\n",
        "prcdf2 = pd.read_csv(prcFile)\n",
        "\n",
        "aucdf2['average auc'] = aucdf2.iloc[:,1:].apply('mean',axis=1)\n",
        "aucdf2.iloc[:,[0,-1]]\n"
      ],
      "execution_count": null,
      "outputs": [
        {
          "output_type": "execute_result",
          "data": {
            "text/html": [
              "<div>\n",
              "<style scoped>\n",
              "    .dataframe tbody tr th:only-of-type {\n",
              "        vertical-align: middle;\n",
              "    }\n",
              "\n",
              "    .dataframe tbody tr th {\n",
              "        vertical-align: top;\n",
              "    }\n",
              "\n",
              "    .dataframe thead th {\n",
              "        text-align: right;\n",
              "    }\n",
              "</style>\n",
              "<table border=\"1\" class=\"dataframe\">\n",
              "  <thead>\n",
              "    <tr style=\"text-align: right;\">\n",
              "      <th></th>\n",
              "      <th>model</th>\n",
              "      <th>average auc</th>\n",
              "    </tr>\n",
              "  </thead>\n",
              "  <tbody>\n",
              "    <tr>\n",
              "      <th>0</th>\n",
              "      <td>weighted_whole_densenet_scores.txt</td>\n",
              "      <td>0.782841</td>\n",
              "    </tr>\n",
              "    <tr>\n",
              "      <th>1</th>\n",
              "      <td>whole_densenet121_fcn_scores.txt</td>\n",
              "      <td>0.793486</td>\n",
              "    </tr>\n",
              "    <tr>\n",
              "      <th>2</th>\n",
              "      <td>whole_densenet121_scores.txt</td>\n",
              "      <td>0.791671</td>\n",
              "    </tr>\n",
              "  </tbody>\n",
              "</table>\n",
              "</div>"
            ],
            "text/plain": [
              "                                model  average auc\n",
              "0  weighted_whole_densenet_scores.txt     0.782841\n",
              "1    whole_densenet121_fcn_scores.txt     0.793486\n",
              "2        whole_densenet121_scores.txt     0.791671"
            ]
          },
          "metadata": {
            "tags": []
          },
          "execution_count": 4
        }
      ]
    },
    {
      "cell_type": "code",
      "metadata": {
        "id": "B0j3g2mIBr10",
        "outputId": "8a1b5086-368e-45b0-c629-6c22957e2774",
        "colab": {
          "base_uri": "https://localhost:8080/",
          "height": 175
        }
      },
      "source": [
        "aucdf2"
      ],
      "execution_count": null,
      "outputs": [
        {
          "output_type": "execute_result",
          "data": {
            "text/html": [
              "<div>\n",
              "<style scoped>\n",
              "    .dataframe tbody tr th:only-of-type {\n",
              "        vertical-align: middle;\n",
              "    }\n",
              "\n",
              "    .dataframe tbody tr th {\n",
              "        vertical-align: top;\n",
              "    }\n",
              "\n",
              "    .dataframe thead th {\n",
              "        text-align: right;\n",
              "    }\n",
              "</style>\n",
              "<table border=\"1\" class=\"dataframe\">\n",
              "  <thead>\n",
              "    <tr style=\"text-align: right;\">\n",
              "      <th></th>\n",
              "      <th>model</th>\n",
              "      <th>Atelectasis</th>\n",
              "      <th>Cardiomegaly</th>\n",
              "      <th>Consolidation</th>\n",
              "      <th>Edema</th>\n",
              "      <th>Effusion</th>\n",
              "      <th>Emphysema</th>\n",
              "      <th>Fibrosis</th>\n",
              "      <th>Hernia</th>\n",
              "      <th>Infiltration</th>\n",
              "      <th>Mass</th>\n",
              "      <th>Nodule</th>\n",
              "      <th>Pleural_Thickening</th>\n",
              "      <th>Pneumonia</th>\n",
              "      <th>Pneumothorax</th>\n",
              "      <th>No Finding</th>\n",
              "      <th></th>\n",
              "      <th>average auc</th>\n",
              "    </tr>\n",
              "  </thead>\n",
              "  <tbody>\n",
              "    <tr>\n",
              "      <th>0</th>\n",
              "      <td>weighted_whole_densenet_scores.txt</td>\n",
              "      <td>0.772656</td>\n",
              "      <td>0.835810</td>\n",
              "      <td>0.795317</td>\n",
              "      <td>0.866073</td>\n",
              "      <td>0.862499</td>\n",
              "      <td>0.849846</td>\n",
              "      <td>0.744909</td>\n",
              "      <td>0.725687</td>\n",
              "      <td>0.686409</td>\n",
              "      <td>0.799932</td>\n",
              "      <td>0.756195</td>\n",
              "      <td>0.721216</td>\n",
              "      <td>0.756423</td>\n",
              "      <td>0.715897</td>\n",
              "      <td>0.853744</td>\n",
              "      <td></td>\n",
              "      <td>0.782841</td>\n",
              "    </tr>\n",
              "    <tr>\n",
              "      <th>1</th>\n",
              "      <td>whole_densenet121_fcn_scores.txt</td>\n",
              "      <td>0.771041</td>\n",
              "      <td>0.870496</td>\n",
              "      <td>0.798225</td>\n",
              "      <td>0.879818</td>\n",
              "      <td>0.862340</td>\n",
              "      <td>0.882023</td>\n",
              "      <td>0.739620</td>\n",
              "      <td>0.839590</td>\n",
              "      <td>0.693310</td>\n",
              "      <td>0.768253</td>\n",
              "      <td>0.755659</td>\n",
              "      <td>0.713987</td>\n",
              "      <td>0.769556</td>\n",
              "      <td>0.709616</td>\n",
              "      <td>0.848751</td>\n",
              "      <td></td>\n",
              "      <td>0.793486</td>\n",
              "    </tr>\n",
              "    <tr>\n",
              "      <th>2</th>\n",
              "      <td>whole_densenet121_scores.txt</td>\n",
              "      <td>0.787513</td>\n",
              "      <td>0.845661</td>\n",
              "      <td>0.783883</td>\n",
              "      <td>0.873226</td>\n",
              "      <td>0.848281</td>\n",
              "      <td>0.872503</td>\n",
              "      <td>0.741479</td>\n",
              "      <td>0.821255</td>\n",
              "      <td>0.690450</td>\n",
              "      <td>0.794441</td>\n",
              "      <td>0.754284</td>\n",
              "      <td>0.717866</td>\n",
              "      <td>0.784661</td>\n",
              "      <td>0.702938</td>\n",
              "      <td>0.856619</td>\n",
              "      <td></td>\n",
              "      <td>0.791671</td>\n",
              "    </tr>\n",
              "  </tbody>\n",
              "</table>\n",
              "</div>"
            ],
            "text/plain": [
              "                                model   Atelectasis  ...     average auc\n",
              "0  weighted_whole_densenet_scores.txt      0.772656  ...        0.782841\n",
              "1    whole_densenet121_fcn_scores.txt      0.771041  ...        0.793486\n",
              "2        whole_densenet121_scores.txt      0.787513  ...        0.791671\n",
              "\n",
              "[3 rows x 18 columns]"
            ]
          },
          "metadata": {
            "tags": []
          },
          "execution_count": 10
        }
      ]
    },
    {
      "cell_type": "markdown",
      "metadata": {
        "id": "9I2OZ8maOrcH"
      },
      "source": [
        "\n",
        "# PRC\n",
        "\n",
        "\n",
        "1. PRC SHOULD USE THE SAME MODEL TO COMPARE --whole simple densenet \n",
        "2. drop no Findings\n",
        "3. drop pathologies with sample set less than x \n",
        "\n"
      ]
    },
    {
      "cell_type": "code",
      "metadata": {
        "id": "72jbnycqNZ1X",
        "outputId": "1c56ff2d-8806-4320-ae59-e012066a2e4a",
        "colab": {
          "base_uri": "https://localhost:8080/",
          "height": 168
        }
      },
      "source": [
        "prcdf['average prc'] = prcdf.iloc[:,1:].apply('mean',axis=1)\n",
        "prcdf.iloc[:,[0,-1]]"
      ],
      "execution_count": null,
      "outputs": [
        {
          "output_type": "execute_result",
          "data": {
            "text/html": [
              "<div>\n",
              "<style scoped>\n",
              "    .dataframe tbody tr th:only-of-type {\n",
              "        vertical-align: middle;\n",
              "    }\n",
              "\n",
              "    .dataframe tbody tr th {\n",
              "        vertical-align: top;\n",
              "    }\n",
              "\n",
              "    .dataframe thead th {\n",
              "        text-align: right;\n",
              "    }\n",
              "</style>\n",
              "<table border=\"1\" class=\"dataframe\">\n",
              "  <thead>\n",
              "    <tr style=\"text-align: right;\">\n",
              "      <th></th>\n",
              "      <th>model</th>\n",
              "      <th>average prc</th>\n",
              "    </tr>\n",
              "  </thead>\n",
              "  <tbody>\n",
              "    <tr>\n",
              "      <th>0</th>\n",
              "      <td>densenet_fcn2_bs16_readme.txt</td>\n",
              "      <td>0.102761</td>\n",
              "    </tr>\n",
              "    <tr>\n",
              "      <th>1</th>\n",
              "      <td>densenet_fcn2_bs32_readme.txt</td>\n",
              "      <td>0.118144</td>\n",
              "    </tr>\n",
              "    <tr>\n",
              "      <th>2</th>\n",
              "      <td>simple_dense_weighted_bs32_lr00002_readme.txt</td>\n",
              "      <td>0.173303</td>\n",
              "    </tr>\n",
              "    <tr>\n",
              "      <th>3</th>\n",
              "      <td>whole_simple_Dense_bs32_lr00002_readme.txt</td>\n",
              "      <td>0.215387</td>\n",
              "    </tr>\n",
              "  </tbody>\n",
              "</table>\n",
              "</div>"
            ],
            "text/plain": [
              "                                           model  average prc\n",
              "0                  densenet_fcn2_bs16_readme.txt     0.102761\n",
              "1                  densenet_fcn2_bs32_readme.txt     0.118144\n",
              "2  simple_dense_weighted_bs32_lr00002_readme.txt     0.173303\n",
              "3     whole_simple_Dense_bs32_lr00002_readme.txt     0.215387"
            ]
          },
          "metadata": {
            "tags": []
          },
          "execution_count": 5
        }
      ]
    },
    {
      "cell_type": "code",
      "metadata": {
        "id": "B59iBh6eOhZH"
      },
      "source": [
        "prcdf"
      ],
      "execution_count": null,
      "outputs": []
    },
    {
      "cell_type": "code",
      "metadata": {
        "id": "B_gL9POQ7_jU",
        "outputId": "8419f8a4-86fb-46b0-beb2-28980f744f93",
        "colab": {
          "base_uri": "https://localhost:8080/",
          "height": 175
        }
      },
      "source": [
        "prcdf2"
      ],
      "execution_count": null,
      "outputs": [
        {
          "output_type": "execute_result",
          "data": {
            "text/html": [
              "<div>\n",
              "<style scoped>\n",
              "    .dataframe tbody tr th:only-of-type {\n",
              "        vertical-align: middle;\n",
              "    }\n",
              "\n",
              "    .dataframe tbody tr th {\n",
              "        vertical-align: top;\n",
              "    }\n",
              "\n",
              "    .dataframe thead th {\n",
              "        text-align: right;\n",
              "    }\n",
              "</style>\n",
              "<table border=\"1\" class=\"dataframe\">\n",
              "  <thead>\n",
              "    <tr style=\"text-align: right;\">\n",
              "      <th></th>\n",
              "      <th>model</th>\n",
              "      <th>Atelectasis</th>\n",
              "      <th>Cardiomegaly</th>\n",
              "      <th>Consolidation</th>\n",
              "      <th>Edema</th>\n",
              "      <th>Effusion</th>\n",
              "      <th>Emphysema</th>\n",
              "      <th>Fibrosis</th>\n",
              "      <th>Hernia</th>\n",
              "      <th>Infiltration</th>\n",
              "      <th>Mass</th>\n",
              "      <th>Nodule</th>\n",
              "      <th>Pleural_Thickening</th>\n",
              "      <th>Pneumonia</th>\n",
              "      <th>Pneumothorax</th>\n",
              "      <th>No Finding</th>\n",
              "      <th></th>\n",
              "      <th>average prc</th>\n",
              "    </tr>\n",
              "  </thead>\n",
              "  <tbody>\n",
              "    <tr>\n",
              "      <th>0</th>\n",
              "      <td>weighted_whole_densenet_scores.txt</td>\n",
              "      <td>0.275902</td>\n",
              "      <td>0.211439</td>\n",
              "      <td>0.125858</td>\n",
              "      <td>0.116571</td>\n",
              "      <td>0.482674</td>\n",
              "      <td>0.180161</td>\n",
              "      <td>0.054055</td>\n",
              "      <td>0.014088</td>\n",
              "      <td>0.325961</td>\n",
              "      <td>0.266604</td>\n",
              "      <td>0.767846</td>\n",
              "      <td>0.186753</td>\n",
              "      <td>0.089942</td>\n",
              "      <td>0.028911</td>\n",
              "      <td>0.260370</td>\n",
              "      <td></td>\n",
              "      <td>0.225809</td>\n",
              "    </tr>\n",
              "    <tr>\n",
              "      <th>1</th>\n",
              "      <td>whole_densenet121_fcn_scores.txt</td>\n",
              "      <td>0.270994</td>\n",
              "      <td>0.237174</td>\n",
              "      <td>0.128154</td>\n",
              "      <td>0.148214</td>\n",
              "      <td>0.471517</td>\n",
              "      <td>0.279506</td>\n",
              "      <td>0.045683</td>\n",
              "      <td>0.014623</td>\n",
              "      <td>0.330519</td>\n",
              "      <td>0.215629</td>\n",
              "      <td>0.768214</td>\n",
              "      <td>0.169895</td>\n",
              "      <td>0.090986</td>\n",
              "      <td>0.030914</td>\n",
              "      <td>0.268612</td>\n",
              "      <td></td>\n",
              "      <td>0.231376</td>\n",
              "    </tr>\n",
              "    <tr>\n",
              "      <th>2</th>\n",
              "      <td>whole_densenet121_scores.txt</td>\n",
              "      <td>0.310819</td>\n",
              "      <td>0.237482</td>\n",
              "      <td>0.121365</td>\n",
              "      <td>0.147616</td>\n",
              "      <td>0.467717</td>\n",
              "      <td>0.255625</td>\n",
              "      <td>0.047320</td>\n",
              "      <td>0.009044</td>\n",
              "      <td>0.327651</td>\n",
              "      <td>0.240750</td>\n",
              "      <td>0.771100</td>\n",
              "      <td>0.184718</td>\n",
              "      <td>0.102944</td>\n",
              "      <td>0.029720</td>\n",
              "      <td>0.281421</td>\n",
              "      <td></td>\n",
              "      <td>0.235686</td>\n",
              "    </tr>\n",
              "  </tbody>\n",
              "</table>\n",
              "</div>"
            ],
            "text/plain": [
              "                                model   Atelectasis  ...     average prc\n",
              "0  weighted_whole_densenet_scores.txt      0.275902  ...        0.225809\n",
              "1    whole_densenet121_fcn_scores.txt      0.270994  ...        0.231376\n",
              "2        whole_densenet121_scores.txt      0.310819  ...        0.235686\n",
              "\n",
              "[3 rows x 18 columns]"
            ]
          },
          "metadata": {
            "tags": []
          },
          "execution_count": 9
        }
      ]
    },
    {
      "cell_type": "code",
      "metadata": {
        "id": "MFDh657i8Lp9",
        "outputId": "b0f92007-45ec-4dd0-d00c-795b757263e8",
        "colab": {
          "base_uri": "https://localhost:8080/",
          "height": 138
        }
      },
      "source": [
        "prcdf2['average prc'] = prcdf2.iloc[:,1:].apply('mean',axis=1)\n",
        "prcdf2.iloc[:,[0,-1]]"
      ],
      "execution_count": null,
      "outputs": [
        {
          "output_type": "execute_result",
          "data": {
            "text/html": [
              "<div>\n",
              "<style scoped>\n",
              "    .dataframe tbody tr th:only-of-type {\n",
              "        vertical-align: middle;\n",
              "    }\n",
              "\n",
              "    .dataframe tbody tr th {\n",
              "        vertical-align: top;\n",
              "    }\n",
              "\n",
              "    .dataframe thead th {\n",
              "        text-align: right;\n",
              "    }\n",
              "</style>\n",
              "<table border=\"1\" class=\"dataframe\">\n",
              "  <thead>\n",
              "    <tr style=\"text-align: right;\">\n",
              "      <th></th>\n",
              "      <th>model</th>\n",
              "      <th>average prc</th>\n",
              "    </tr>\n",
              "  </thead>\n",
              "  <tbody>\n",
              "    <tr>\n",
              "      <th>0</th>\n",
              "      <td>weighted_whole_densenet_scores.txt</td>\n",
              "      <td>0.225809</td>\n",
              "    </tr>\n",
              "    <tr>\n",
              "      <th>1</th>\n",
              "      <td>whole_densenet121_fcn_scores.txt</td>\n",
              "      <td>0.231376</td>\n",
              "    </tr>\n",
              "    <tr>\n",
              "      <th>2</th>\n",
              "      <td>whole_densenet121_scores.txt</td>\n",
              "      <td>0.235686</td>\n",
              "    </tr>\n",
              "  </tbody>\n",
              "</table>\n",
              "</div>"
            ],
            "text/plain": [
              "                                model  average prc\n",
              "0  weighted_whole_densenet_scores.txt     0.225809\n",
              "1    whole_densenet121_fcn_scores.txt     0.231376\n",
              "2        whole_densenet121_scores.txt     0.235686"
            ]
          },
          "metadata": {
            "tags": []
          },
          "execution_count": 8
        }
      ]
    },
    {
      "cell_type": "code",
      "metadata": {
        "id": "MGdzTvirOirE",
        "outputId": "9c2f1db6-dff9-4e59-9d99-4e90bd234175",
        "colab": {
          "base_uri": "https://localhost:8080/",
          "height": 345
        }
      },
      "source": [
        "#MOST prominent: atelectasis, inﬁltration and effusion, hermia distinctive , pneumonia has poorer prc (in general)\n",
        "average_prc_byPathlogy = prcdf.iloc[:,1:].apply('mean', axis=0)\n",
        "average_prc_byPathlogy.sort_values(ascending=False) "
      ],
      "execution_count": null,
      "outputs": [
        {
          "output_type": "execute_result",
          "data": {
            "text/plain": [
              " Effusion                 0.381042\n",
              " Infiltration             0.296790\n",
              " Atelectasis              0.241652\n",
              " Pneumothorax             0.206889\n",
              " Cardiomegaly             0.185877\n",
              "average prc               0.152399\n",
              "average auc               0.152399\n",
              " Mass                     0.148068\n",
              " Emphysema                0.144025\n",
              " Nodule                   0.129689\n",
              " Consolidation            0.113179\n",
              " Edema                    0.086236\n",
              " Pleural_Thickening       0.084856\n",
              " Fibrosis                 0.060540\n",
              " Hernia                   0.032184\n",
              " Pneumonia                0.022554\n",
              "average_prc_byPathlogy         NaN\n",
              "dtype: float64"
            ]
          },
          "metadata": {
            "tags": []
          },
          "execution_count": 24
        }
      ]
    },
    {
      "cell_type": "markdown",
      "metadata": {
        "id": "40XIGUB4XhNj"
      },
      "source": [
        "OBSERVATION: \n",
        "sort by prc values -- confusing why Penumothorax high prc? sample size is small. look at the images!!"
      ]
    },
    {
      "cell_type": "code",
      "metadata": {
        "id": "LKZa8kEZW9Kw",
        "outputId": "eba6b6aa-fda2-4205-9d37-cd44aab0d3f6",
        "colab": {
          "base_uri": "https://localhost:8080/",
          "height": 345
        }
      },
      "source": [
        "average_prc_byPathlogy.sort_values()"
      ],
      "execution_count": null,
      "outputs": [
        {
          "output_type": "execute_result",
          "data": {
            "text/plain": [
              " Pneumonia                0.022554\n",
              " Hernia                   0.032184\n",
              " Fibrosis                 0.060540\n",
              " Pleural_Thickening       0.084856\n",
              " Edema                    0.086236\n",
              " Consolidation            0.113179\n",
              " Nodule                   0.129689\n",
              " Emphysema                0.144025\n",
              " Mass                     0.148068\n",
              "average auc               0.152399\n",
              "average prc               0.152399\n",
              " Cardiomegaly             0.185877\n",
              " Pneumothorax             0.206889\n",
              " Atelectasis              0.241652\n",
              " Infiltration             0.296790\n",
              " Effusion                 0.381042\n",
              "average_prc_byPathlogy         NaN\n",
              "dtype: float64"
            ]
          },
          "metadata": {
            "tags": []
          },
          "execution_count": 25
        }
      ]
    },
    {
      "cell_type": "code",
      "metadata": {
        "id": "_8NEOAgqVvKM",
        "outputId": "a3b123bd-1f4e-49ac-ab1f-8ca16a2c21b9",
        "colab": {
          "base_uri": "https://localhost:8080/",
          "height": 35
        }
      },
      "source": [
        "prcdf.iloc[prcdf[' Pneumonia'].idxmax(),0]\n"
      ],
      "execution_count": null,
      "outputs": [
        {
          "output_type": "execute_result",
          "data": {
            "text/plain": [
              "'densenet_fcn2_bs32_readme.txt'"
            ]
          },
          "metadata": {
            "tags": []
          },
          "execution_count": 40
        }
      ]
    },
    {
      "cell_type": "code",
      "metadata": {
        "id": "pPHJyfb9YRk4",
        "outputId": "2ff5f74e-99ff-494d-d2b6-1c47698db51f",
        "colab": {
          "base_uri": "https://localhost:8080/",
          "height": 35
        }
      },
      "source": [
        "prcdf.iloc[prcdf[' Hernia'].idxmax(),0]"
      ],
      "execution_count": null,
      "outputs": [
        {
          "output_type": "execute_result",
          "data": {
            "text/plain": [
              "'simple_dense_weighted_bs32_lr00002_readme.txt'"
            ]
          },
          "metadata": {
            "tags": []
          },
          "execution_count": 41
        }
      ]
    },
    {
      "cell_type": "code",
      "metadata": {
        "id": "LurKh_UDYVsX",
        "outputId": "bb92155f-96a8-4dd1-e919-511779f24fb2",
        "colab": {
          "base_uri": "https://localhost:8080/",
          "height": 35
        }
      },
      "source": [
        "resnet = [\n",
        "0.594352 ,\n",
        "0.717728 ,\n",
        "0.665112 ,\n",
        "0.456772 ,\n",
        "0.699896 ,\n",
        "0.724205 ,\n",
        "0.625992 ,\n",
        "0.847059 ,\n",
        "0.639567 ,\n",
        "0.509422 ,\n",
        "0.678250 ,\n",
        "0.445920 ,\n",
        "0.552496, \n",
        "0.666135 ,\n",
        "0.633145 ,\n",
        "]\n",
        "np.mean(resnet)"
      ],
      "execution_count": null,
      "outputs": [
        {
          "output_type": "execute_result",
          "data": {
            "text/plain": [
              "0.6304034000000001"
            ]
          },
          "metadata": {
            "tags": []
          },
          "execution_count": 11
        }
      ]
    }
  ]
}